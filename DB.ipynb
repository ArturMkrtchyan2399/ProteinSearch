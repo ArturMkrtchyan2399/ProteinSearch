{
 "cells": [
  {
   "cell_type": "code",
   "execution_count": 3,
   "id": "32ac944f",
   "metadata": {},
   "outputs": [],
   "source": [
    "from sqlalchemy import create_engine\n",
    "from sqlalchemy.orm import sessionmaker\n",
    "import os\n",
    "from Bio.PDB import PDBParser\n",
    "from tqdm import tqdm\n",
    "import torch\n",
    "import esm\n",
    "import json\n",
    "from classes import *"
   ]
  },
  {
   "cell_type": "code",
   "execution_count": 4,
   "id": "48ed33e5",
   "metadata": {},
   "outputs": [],
   "source": [
    "import warnings\n",
    "warnings.filterwarnings(\"ignore\",message=\".*?Chain .*? is discontinuous.*?\")"
   ]
  },
  {
   "cell_type": "code",
   "execution_count": 5,
   "id": "f3b9e28f",
   "metadata": {},
   "outputs": [],
   "source": [
    "def parse_pdb(id_, path):\n",
    "    structure = PDBParser().get_structure(id_, path)\n",
    "    pdb = {\n",
    "        \"id\": id_,\n",
    "        \"name\": structure.header[\"name\"],\n",
    "        \"chains\": {chain.id:''.join(residue.resname for residue in chain if residue.get_id()[0]==\" \") for chain in structure.get_chains()}\n",
    "    }\n",
    "    return pdb"
   ]
  },
  {
   "cell_type": "code",
   "execution_count": 6,
   "id": "e083016d",
   "metadata": {},
   "outputs": [],
   "source": [
    "import ssl\n",
    "ssl._create_default_https_context = ssl._create_unverified_context\n",
    "\n",
    "model, alphabet = esm.pretrained.esm2_t33_650M_UR50D()\n",
    "batch_converter = alphabet.get_batch_converter()\n",
    "model.eval();  # disables dropout for deterministic results"
   ]
  },
  {
   "cell_type": "code",
   "execution_count": 6,
   "id": "c1fe2494",
   "metadata": {},
   "outputs": [],
   "source": [
    "pdbs_folder = \"/Users/arturmkrtchyan/Desktop/pdb2\""
   ]
  },
  {
   "cell_type": "code",
   "execution_count": 7,
   "id": "ae545ddd",
   "metadata": {},
   "outputs": [],
   "source": [
    "folders = sorted(filter(lambda x: not x.startswith(\".\"), os.listdir(pdbs_folder)))\n",
    "for folder in folders:\n",
    "    for file in os.listdir(f\"{pdbs_folder}/{folder}\"):\n",
    "        if file.endswith(\".ent\"):\n",
    "            id_ = file[3:7].upper()\n",
    "            os.rename(f\"{pdbs_folder}/{folder}/{file}\",f\"{pdbs_folder}/{folder}/{id_}.pdb\")"
   ]
  },
  {
   "cell_type": "code",
   "execution_count": 8,
   "id": "eb232979",
   "metadata": {},
   "outputs": [],
   "source": [
    "engine = create_engine(\"mysql+pymysql://root:@localhost/pdb?charset=utf8mb4\")\n",
    "Base.metadata.create_all(engine)\n",
    "Session = sessionmaker(bind=engine)\n",
    "session = Session()"
   ]
  },
  {
   "cell_type": "code",
   "execution_count": 10,
   "id": "82b2f180",
   "metadata": {},
   "outputs": [
    {
     "name": "stderr",
     "output_type": "stream",
     "text": [
      "100%|██████████| 4/4 [00:00<00:00,  4.22it/s]\n"
     ]
    }
   ],
   "source": [
    "for folder in tqdm(folders):\n",
    "    files_list = filter(lambda x: not x.startswith(\".\"), os.listdir(f\"{pdbs_folder}/{folder}\"))\n",
    "    chains_to_evaluate = []\n",
    "    for file in files_list:\n",
    "        path = f\"{pdbs_folder}/{folder}/{file}\"\n",
    "        id_ = file[:4]\n",
    "        data = parse_pdb(id_, path)\n",
    "        protein = session.query(Protein).filter(Protein.id==id_).first()\n",
    "        if protein is None:\n",
    "            protein = Protein(id_, data[\"name\"], path)\n",
    "            session.add(protein)\n",
    "        chain_ids_in_db = {i.chain_id for i in protein.chains}\n",
    "        for chain_id, sequence in data[\"chains\"].items():\n",
    "            if chain_id not in chain_ids_in_db:\n",
    "                chain = Chain(protein.id, chain_id, sequence)\n",
    "                session.add(chain)\n",
    "                protein.chains.append(chain)\n",
    "                chains_to_evaluate.append(chain)\n",
    "    if len(chains_to_evaluate):\n",
    "        data = [(i.id, i.sequence) for i in chains_to_evaluate]\n",
    "        batch_labels, batch_strs, batch_tokens = batch_converter(data)\n",
    "        with torch.no_grad():\n",
    "            results = model(batch_tokens)\n",
    "        for tokens, chain in zip(results[\"logits\"], chains_to_evaluate):\n",
    "            avg_tokens = tokens.mean(axis=0)\n",
    "            chain.esm = json.dumps(avg_tokens.cpu().numpy().tolist())\n",
    "    session.commit()"
   ]
  },
  {
   "cell_type": "code",
   "execution_count": 8,
   "id": "5e750c43",
   "metadata": {},
   "outputs": [
    {
     "data": {
      "text/plain": [
       "{'id': '+000',\n",
       " 'name': 'esmfold v1 prediction for input',\n",
       " 'chains': {'A': 'METLYSTHRVALARGGLNGLUARGLEULYSSERILEVALARGILELEUGLUARGSERLYSGLUPROVALSERGLYALAGLNLEUALAGLUGLULEUSERVALSERARGGLNVALILEVALGLNASPILEALATYRLEUARGSERLEUGLYTYRASNILEVALALATHRPROARGGLYTYRVALLEUALAGLYGLY'}}"
      ]
     },
     "execution_count": 8,
     "metadata": {},
     "output_type": "execute_result"
    }
   ],
   "source": [
    "parse_pdb(\"+000\",\"/Users/arturmkrtchyan/Desktop/pdb2/generated/+000.pdb\")"
   ]
  },
  {
   "cell_type": "code",
   "execution_count": null,
   "id": "1d6a8db1",
   "metadata": {},
   "outputs": [],
   "source": []
  }
 ],
 "metadata": {
  "kernelspec": {
   "display_name": "Python 3 (ipykernel)",
   "language": "python",
   "name": "python3"
  },
  "language_info": {
   "codemirror_mode": {
    "name": "ipython",
    "version": 3
   },
   "file_extension": ".py",
   "mimetype": "text/x-python",
   "name": "python",
   "nbconvert_exporter": "python",
   "pygments_lexer": "ipython3",
   "version": "3.9.16"
  }
 },
 "nbformat": 4,
 "nbformat_minor": 5
}
